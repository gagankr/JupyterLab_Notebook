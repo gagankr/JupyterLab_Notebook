{
 "cells": [
  {
   "cell_type": "markdown",
   "id": "4f63d3af",
   "metadata": {},
   "source": [
    "# Data Science Tools and Ecosystem"
   ]
  },
  {
   "cell_type": "markdown",
   "id": "a2db48dd",
   "metadata": {},
   "source": [
    "In this notebook, Data Science Tools and Ecosystem are summarized.\n"
   ]
  },
  {
   "cell_type": "markdown",
   "id": "4b10b3ec",
   "metadata": {},
   "source": [
    "Some of the popular languages that Data Scientists use are:\n",
    "Unordered List:\n",
    "    * Python \n",
    "    * R\n",
    "    * Scala\n",
    "    * Julia\n",
    "    * SQL\n",
    "    * MATLAB\n",
    "    * Javascript\n",
    "    * JAVA\n",
    "\n",
    "Ordered List:\n",
    "    1. Python \n",
    "    2. R\n",
    "    3. Scala\n",
    "    4. Julia\n",
    "    5. SQL\n",
    "    6. MATLAB\n",
    "    7. Javascript\n",
    "    8. JAVA\n"
   ]
  },
  {
   "cell_type": "code",
   "execution_count": 1,
   "id": "06eb25c4",
   "metadata": {},
   "outputs": [
    {
     "ename": "SyntaxError",
     "evalue": "invalid syntax (1435116262.py, line 1)",
     "output_type": "error",
     "traceback": [
      "\u001b[1;36m  Cell \u001b[1;32mIn[1], line 1\u001b[1;36m\u001b[0m\n\u001b[1;33m    Some of the commonly used libraries used by Data Scientists include:\u001b[0m\n\u001b[1;37m         ^\u001b[0m\n\u001b[1;31mSyntaxError\u001b[0m\u001b[1;31m:\u001b[0m invalid syntax\n"
     ]
    }
   ],
   "source": [
    "Some of the commonly used libraries used by Data Scientists include:\n",
    "    1. Numpy\n",
    "    2. Pandas\n",
    "    3. Matplotlib\n",
    "    4. Seaborn\n",
    "    5. Scikit-learn\n",
    "    6. TensorFlow\n",
    "    7. PyTorch\n",
    "    8 Keras\n",
    "    9. NLTK [Natural Language Tool kit]\n",
    "    10. Statsmodels"
   ]
  },
  {
   "cell_type": "markdown",
   "id": "1f29ee62",
   "metadata": {},
   "source": [
    "Exercise 6 - Create a markdown cell with a table of Data Science tools\n",
    "\n",
    "Create a single column table in this cell with the first row containing the header Data Science Tools. The subsequent three rows in the table should indicate three development environment open source tools used in data science.\n",
    "\n",
    "Take a screenshot of the markdown cell and name it as 6-dstools.png (Images can be saved with either the .jpg or .png extension.)\n",
    "Hint: Refer to Lab: Using Markdowns in Jupyter Notebooks to create a table."
   ]
  },
  {
   "cell_type": "markdown",
   "id": "fccb86f0",
   "metadata": {},
   "source": [
    "|Data Science Tools|\n",
    "|---|\n",
    "|Jupyter Notebooks|\n",
    "|RStudio|\n",
    "|Apache Zeppelin|"
   ]
  },
  {
   "cell_type": "markdown",
   "id": "f3ce3819",
   "metadata": {},
   "source": [
    "### Below are a few examples of evaluating arithmetic expressions in Python\n",
    "\n",
    "#### Addition\n",
    "result_addition = 5 + 3\n",
    "print(\"Addition:\", result_addition)\n",
    "\n",
    "#### Subtraction\n",
    "result_subtraction = 10 - 4\n",
    "print(\"Subtraction:\", result_subtraction)\n",
    "\n",
    "#### Multiplication\n",
    "result_multiplication = 6 * 7\n",
    "print(\"Multiplication:\", result_multiplication)\n",
    "\n",
    "#### Division\n",
    "result_division = 20 / 4\n",
    "print(\"Division:\", result_division)\n",
    "\n",
    "#### Integer Division (floor division)\n",
    "result_floor_division = 21 // 5\n",
    "print(\"Floor Division:\", result_floor_division)\n",
    "\n",
    "#### Modulo (remainder)\n",
    "result_modulo = 15 % 4\n",
    "print(\"Modulo (Remainder):\", result_modulo)\n",
    "\n",
    "#### Exponentiation\n",
    "result_exponentiation = 2 ** 3\n",
    "print(\"Exponentiation:\", result_exponentiation)\n",
    "\n",
    "#### Parentheses for grouping\n",
    "result_complex_expression = (5 + 3) * (10 - 2) / 4\n",
    "print(\"Complex Expression:\", result_complex_expression)"
   ]
  },
  {
   "cell_type": "markdown",
   "id": "66889a26",
   "metadata": {},
   "source": [
    "Exercise 8 - Create a code cell to multiply and add numbers\n",
    "\n",
    "In this code cell evaluate the expression (3*4)+5.\n",
    "Insert a comment line before the expression to explain the operation e.g.  This a simple arithmetic expression to mutiply then add integers.\n",
    "Then execute the cell to ensure the expression returns the expected output of 17.\n",
    "Take a screenshot of the code cell with output and name it as 8-multiplyandaddintegers.png (Images can be saved with either the .jpg or .png extension.)"
   ]
  },
  {
   "cell_type": "code",
   "execution_count": null,
   "id": "9d5ddcf4",
   "metadata": {
    "scrolled": true
   },
   "outputs": [],
   "source": [
    "# Addition\n",
    "result_addition = 5 + 3\n",
    "print(\"Addition:\", result_addition)\n",
    "\n",
    "# Subtraction\n",
    "result_subtraction = 10 - 4\n",
    "print(\"Subtraction:\", result_subtraction)\n",
    "\n",
    "# Multiplication\n",
    "result_multiplication = 6 * 7\n",
    "print(\"Multiplication:\", result_multiplication)\n",
    "\n",
    "# Division\n",
    "result_division = 20 / 4\n",
    "print(\"Division:\", result_division)\n",
    "\n",
    "# Integer Division (floor division)\n",
    "result_floor_division = 21 // 5\n",
    "print(\"Floor Division:\", result_floor_division)\n",
    "\n",
    "# Modulo (remainder)\n",
    "result_modulo = 15 % 4\n",
    "print(\"Modulo (Remainder):\", result_modulo)\n",
    "\n",
    "# Exponentiation\n",
    "result_exponentiation = 2 ** 3\n",
    "print(\"Exponentiation:\", result_exponentiation)\n",
    "\n",
    "# Parentheses for grouping\n",
    "result_complex_expression = (5 + 3) * (10 - 2) / 4\n",
    "print(\"Complex Expression:\", result_complex_expression)"
   ]
  },
  {
   "cell_type": "markdown",
   "id": "e0a6cb1c",
   "metadata": {},
   "source": [
    "Exercise 9 - Create a code cell to convert minutes to hours\n",
    "\n",
    "In this code cell write an expression that converts 200 minutes into hours.\n",
    "Insert a comment line before the expression to explain the operation e.g.  This will convert 200 minutes to hours by diving by 60.\n",
    "Run the cell to evaluate the expression.\n",
    "Take a screenshot of the code cell with output and name it as 9-hourstominutes.png (Images can be saved with either the .jpg or .png extension.)"
   ]
  },
  {
   "cell_type": "code",
   "execution_count": null,
   "id": "93f4c1fd",
   "metadata": {},
   "outputs": [],
   "source": [
    "min = 200\n",
    "\n",
    "# This code converts minutes to hours\n",
    "hours = min/60;\n",
    "\n",
    "print(hours)"
   ]
  },
  {
   "cell_type": "markdown",
   "id": "cd9447a1",
   "metadata": {},
   "source": [
    "Exercise 10 - Insert a markdown cell to list Objectives\n",
    "\n",
    "Below the introduction cell created in Exercise 3, insert a new markdown cell to list the objectives that this notebook covered (i.e. some of the key takeaways from the course). In this new cell start with an introductory line titled: Objectives: in bold font. Then using an unordered list (bullets) indicate 3 to 5 items covered in this notebook, such as List popular languages for Data Science.\n",
    "Take a screenshot of the markdown cell and name it as 10-objectives.png (Images can be saved with either the .jpg or .png extension.)"
   ]
  },
  {
   "cell_type": "markdown",
   "id": "b58c95c7",
   "metadata": {},
   "source": [
    "## Objectives:\n",
    "The below topics are covered in this notebook\n",
    "- Python\n",
    "- R\n",
    "- SQL\n",
    "- Scala\n",
    "- Java\n",
    "- C++\n",
    "- JavaScript\n",
    "- Julia\n"
   ]
  },
  {
   "cell_type": "code",
   "execution_count": null,
   "id": "bcef0566",
   "metadata": {},
   "outputs": [],
   "source": []
  }
 ],
 "metadata": {
  "kernelspec": {
   "display_name": "Python 3 (ipykernel)",
   "language": "python",
   "name": "python3"
  },
  "language_info": {
   "codemirror_mode": {
    "name": "ipython",
    "version": 3
   },
   "file_extension": ".py",
   "mimetype": "text/x-python",
   "name": "python",
   "nbconvert_exporter": "python",
   "pygments_lexer": "ipython3",
   "version": "3.11.5"
  }
 },
 "nbformat": 4,
 "nbformat_minor": 5
}
